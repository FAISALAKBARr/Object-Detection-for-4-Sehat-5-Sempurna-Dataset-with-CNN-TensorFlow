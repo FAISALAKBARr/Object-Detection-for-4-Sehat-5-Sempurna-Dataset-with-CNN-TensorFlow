{
  "cells": [
    {
      "cell_type": "code",
      "execution_count": 2,
      "metadata": {
        "colab": {
          "base_uri": "https://localhost:8080/"
        },
        "id": "pvlp4FeKZGmD",
        "outputId": "949ee455-3924-4738-fc75-2aa5e2504f04"
      },
      "outputs": [
        {
          "output_type": "stream",
          "name": "stdout",
          "text": [
            "Mounted at /content/drive/\n",
            "'BAHAN (5000)'\t test   train   validasi\n"
          ]
        }
      ],
      "source": [
        "from google.colab import drive\n",
        "import os\n",
        "import random\n",
        "from shutil import copyfile\n",
        "from PIL import Image\n",
        "\n",
        "# Mount Google Drive\n",
        "drive.mount('/content/drive/')\n",
        "\n",
        "# Direktori utama\n",
        "base_dir = '/content/drive/My Drive/Dataset'\n",
        "!ls \"/content/drive/My Drive/Dataset\""
      ]
    },
    {
      "cell_type": "code",
      "execution_count": 16,
      "metadata": {
        "id": "IASVTTTpZOKQ"
      },
      "outputs": [],
      "source": [
        "# Menentukan direktori\n",
        "bahan_dir = os.path.join(base_dir, 'BAHAN (5000)')\n",
        "test_dir = os.path.join(base_dir, 'test')\n",
        "train_dir = os.path.join(base_dir, 'train')\n",
        "validation_dir = os.path.join(base_dir, 'validasi')\n",
        "\n",
        "# Subdirektori kategori\n",
        "categories = ['karbohidrat', 'protein', 'buah', 'sayur', 'minuman']"
      ]
    },
    {
      "cell_type": "code",
      "execution_count": 17,
      "metadata": {
        "id": "fcSwPuCNbCpT"
      },
      "outputs": [],
      "source": [
        "karbohidrat_dir = os.path.join(bahan_dir, 'karbohidrat/')\n",
        "protein_dir = os.path.join(bahan_dir, 'protein/')\n",
        "buah_dir = os.path.join(bahan_dir, 'buah/')\n",
        "sayur_dir = os.path.join(bahan_dir, 'sayur/')\n",
        "minuman_dir = os.path.join(bahan_dir, 'minuman/')"
      ]
    },
    {
      "cell_type": "code",
      "execution_count": 18,
      "metadata": {
        "id": "H9JIHGbXbIgr"
      },
      "outputs": [],
      "source": [
        "# Direktori isi test\n",
        "test_karbohidrat = os.path.join(test_dir, 'karbohidrat/')\n",
        "test_protein = os.path.join(test_dir, 'protein/')\n",
        "test_buah = os.path.join(test_dir, 'buah/')\n",
        "test_sayur = os.path.join(test_dir, 'sayur/')\n",
        "test_minuman = os.path.join(test_dir, 'minuman/')\n",
        "\n",
        "# Direktori isi train\n",
        "train_karbohidrat = os.path.join(train_dir, 'karbohidrat/')\n",
        "train_protein = os.path.join(train_dir, 'protein/')\n",
        "train_buah = os.path.join(train_dir, 'buah/')\n",
        "train_sayur = os.path.join(train_dir, 'sayur/')\n",
        "train_minuman = os.path.join(train_dir, 'minuman/')\n",
        "\n",
        "# Direktori isi validasi\n",
        "validation_karbohidrat = os.path.join(validation_dir, 'karbohidrat/')\n",
        "validation_protein = os.path.join(validation_dir, 'protein/')\n",
        "validation_buah = os.path.join(validation_dir, 'buah/')\n",
        "validation_sayur = os.path.join(validation_dir, 'sayur/')\n",
        "validation_minuman = os.path.join(validation_dir, 'minuman/')"
      ]
    },
    {
      "cell_type": "code",
      "execution_count": 6,
      "metadata": {
        "colab": {
          "base_uri": "https://localhost:8080/"
        },
        "id": "tDFdZfP96LXL",
        "outputId": "2753e4a3-80ca-4907-80bd-3c6392b58f69"
      },
      "outputs": [
        {
          "output_type": "stream",
          "name": "stderr",
          "text": [
            "/usr/local/lib/python3.10/dist-packages/PIL/Image.py:1054: UserWarning: Palette images with Transparency expressed in bytes should be converted to RGBA images\n",
            "  warnings.warn(\n"
          ]
        },
        {
          "output_type": "stream",
          "name": "stdout",
          "text": [
            "Proses splitting dan konversi selesai.\n"
          ]
        }
      ],
      "source": [
        "# Fungsi untuk memastikan direktori ada\n",
        "def ensure_dir(directory):\n",
        "    if not os.path.exists(directory):\n",
        "        os.makedirs(directory)\n",
        "\n",
        "# Fungsi untuk membuat nama unik jika file sudah ada\n",
        "def generate_unique_filename(directory, base_name, extension):\n",
        "    counter = 1\n",
        "    new_name = f\"{base_name}{extension}\"\n",
        "    while os.path.exists(os.path.join(directory, new_name)):\n",
        "        new_name = f\"{base_name}_{counter}{extension}\"\n",
        "        counter += 1\n",
        "    return new_name\n",
        "\n",
        "# Fungsi untuk mengonversi file ke JPG\n",
        "def convert_to_jpg(source_file, destination_dir, base_name):\n",
        "    try:\n",
        "        with Image.open(source_file) as img:\n",
        "            img = img.convert(\"RGB\")\n",
        "            destination_file = generate_unique_filename(destination_dir, base_name, \".jpg\")\n",
        "            destination_path = os.path.join(destination_dir, destination_file)\n",
        "            img.save(destination_path, \"JPEG\")\n",
        "            return destination_file\n",
        "    except Exception as e:\n",
        "        print(f\"Error converting {source_file}: {e}\")\n",
        "        return None\n",
        "\n",
        "# Fungsi untuk membagi data\n",
        "def train_val_test_split(source, train, val, test, train_ratio=0.7, val_ratio=0.15, test_ratio=0.15):\n",
        "    # Hanya file dengan ekstensi gambar yang valid\n",
        "    valid_extensions = (\".jpg\", \".jpeg\", \".png\")\n",
        "    files = [f for f in os.listdir(source) if f.lower().endswith(valid_extensions) and os.path.isfile(os.path.join(source, f))]\n",
        "    total_size = len(files)\n",
        "\n",
        "    if total_size == 0:\n",
        "        print(f\"No valid image files found in {source}\")\n",
        "        return\n",
        "\n",
        "    # Hitung jumlah untuk masing-masing subset\n",
        "    train_size = int(train_ratio * total_size)\n",
        "    val_size = int(val_ratio * total_size)\n",
        "    test_size = total_size - train_size - val_size\n",
        "\n",
        "    # Acak data\n",
        "    randomized = random.sample(files, total_size)\n",
        "\n",
        "    # Tentukan data untuk masing-masing subset\n",
        "    train_files = randomized[:train_size]\n",
        "    val_files = randomized[train_size:train_size + val_size]\n",
        "    test_files = randomized[train_size + val_size:]\n",
        "\n",
        "    # Salin dan konversi file\n",
        "    for subset, target_dir in zip([train_files, val_files, test_files], [train, val, test]):\n",
        "        for file_name in subset:\n",
        "            source_file = os.path.join(source, file_name)\n",
        "            base_name, _ = os.path.splitext(file_name)\n",
        "\n",
        "            # Konversi dan simpan dengan nama unik\n",
        "            convert_to_jpg(source_file, target_dir, base_name)\n",
        "\n",
        "# Daftar kategori\n",
        "categories = ['karbohidrat', 'protein', 'buah', 'sayur', 'minuman']\n",
        "\n",
        "# Buat direktori tujuan jika belum ada\n",
        "for category in categories:\n",
        "    ensure_dir(os.path.join(test_dir, category))\n",
        "    ensure_dir(os.path.join(train_dir, category))\n",
        "    ensure_dir(os.path.join(validation_dir, category))\n",
        "\n",
        "# Lakukan splitting untuk setiap kategori\n",
        "for category in categories:\n",
        "    source = os.path.join(bahan_dir, category)\n",
        "    train_target = os.path.join(train_dir, category)\n",
        "    val_target = os.path.join(validation_dir, category)\n",
        "    test_target = os.path.join(test_dir, category)\n",
        "\n",
        "    train_val_test_split(source, train_target, val_target, test_target, train_ratio=0.7, val_ratio=0.15, test_ratio=0.15)\n",
        "\n",
        "print(\"Proses splitting dan konversi selesai.\")\n"
      ]
    },
    {
      "cell_type": "code",
      "execution_count": 19,
      "metadata": {
        "colab": {
          "base_uri": "https://localhost:8080/"
        },
        "id": "PMoWJHxD1qup",
        "outputId": "a7e88116-a01d-44a4-e6ce-2aa16bc18298"
      },
      "outputs": [
        {
          "output_type": "stream",
          "name": "stdout",
          "text": [
            "Jumlah Test Karbohidrat : 150\n",
            "Jumlah Train Karbohidrat : 700\n",
            "Jumlah Val Karbohidrat : 150 \n",
            "\n",
            "Jumlah Test Protein : 150\n",
            "Jumlah Train Protein : 700\n",
            "Jumlah Val Protein : 150 \n",
            "\n",
            "Jumlah Test Sayur : 150\n",
            "Jumlah Train Sayur : 700\n",
            "Jumlah Val Sayur : 150 \n",
            "\n",
            "Jumlah Test Buah : 150\n",
            "Jumlah Train Buah : 700\n",
            "Jumlah Val Buah : 150 \n",
            "\n",
            "Jumlah Test Minuman : 150\n",
            "Jumlah Train Minuman : 700\n",
            "Jumlah Val Minuman : 150 \n",
            "\n"
          ]
        }
      ],
      "source": [
        "print('Jumlah All Karbohidrat :', len(os.listdir(karbohidrat_dir)))\n",
        "print('Jumlah Test Karbohidrat :', len(os.listdir(test_karbohidrat)))\n",
        "print('Jumlah Train Karbohidrat :', len(os.listdir(train_karbohidrat)))\n",
        "print('Jumlah Val Karbohidrat :', len(os.listdir(validation_karbohidrat)), '\\n')\n",
        "\n",
        "print('Jumlah All Protein :', len(os.listdir(protein_dir)))\n",
        "print('Jumlah Test Protein :', len(os.listdir(test_protein)))\n",
        "print('Jumlah Train Protein :', len(os.listdir(train_protein)))\n",
        "print('Jumlah Val Protein :', len(os.listdir(validation_protein)), '\\n')\n",
        "\n",
        "print('Jumlah All Sayur :', len(os.listdir(sayur_dir)))\n",
        "print('Jumlah Test Sayur :', len(os.listdir(test_sayur)))\n",
        "print('Jumlah Train Sayur :', len(os.listdir(train_sayur)))\n",
        "print('Jumlah Val Sayur :', len(os.listdir(validation_sayur)), '\\n')\n",
        "\n",
        "print('Jumlah All Buah :', len(os.listdir(buah_dir)))\n",
        "print('Jumlah Test Buah :', len(os.listdir(test_buah)))\n",
        "print('Jumlah Train Buah :', len(os.listdir(train_buah)))\n",
        "print('Jumlah Val Buah :', len(os.listdir(validation_buah)), '\\n')\n",
        "\n",
        "print('Jumlah All Minuman :', len(os.listdir(minuman_dir)))\n",
        "print('Jumlah Test Minuman :', len(os.listdir(test_minuman)))\n",
        "print('Jumlah Train Minuman :', len(os.listdir(train_minuman)))\n",
        "print('Jumlah Val Minuman :', len(os.listdir(validation_minuman)), '\\n')"
      ]
    }
  ],
  "metadata": {
    "accelerator": "GPU",
    "colab": {
      "gpuType": "T4",
      "provenance": []
    },
    "kernelspec": {
      "display_name": "Python 3",
      "name": "python3"
    },
    "language_info": {
      "name": "python"
    }
  },
  "nbformat": 4,
  "nbformat_minor": 0
}